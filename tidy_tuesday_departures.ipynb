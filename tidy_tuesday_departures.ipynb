{
  "nbformat": 4,
  "nbformat_minor": 0,
  "metadata": {
    "colab": {
      "name": "tidy-tuesday-departures.ipynb",
      "provenance": [],
      "collapsed_sections": [
        "KnbV3Z83Q8tl"
      ],
      "authorship_tag": "ABX9TyMw9vkm0VmCxIBkxLiiVh6r",
      "include_colab_link": true
    },
    "kernelspec": {
      "name": "python3",
      "display_name": "Python 3"
    },
    "language_info": {
      "name": "python"
    }
  },
  "cells": [
    {
      "cell_type": "markdown",
      "metadata": {
        "id": "view-in-github",
        "colab_type": "text"
      },
      "source": [
        "<a href=\"https://colab.research.google.com/github/appliedecon/tidyTuesday/blob/main/tidy_tuesday_departures.ipynb\" target=\"_parent\"><img src=\"https://colab.research.google.com/assets/colab-badge.svg\" alt=\"Open In Colab\"/></a>"
      ]
    },
    {
      "cell_type": "markdown",
      "metadata": {
        "id": "Mldg88PUxKLK"
      },
      "source": [
        "Source: https://github.com/rfordatascience/tidytuesday/tree/master/data/2021/2021-04-27\n",
        "\n",
        "Tiny bit of data wrangling, simple OLS trend regression, bootstrapping."
      ]
    },
    {
      "cell_type": "code",
      "metadata": {
        "colab": {
          "base_uri": "https://localhost:8080/"
        },
        "id": "UrrtSpw3xCwW",
        "outputId": "edb860e8-2dd0-4239-813c-9bb09a3ed2c5"
      },
      "source": [
        "import pandas as pd\n",
        "import numpy as np\n",
        "import matplotlib.pyplot as plt\n",
        "%matplotlib inline\n",
        "import seaborn as sns\n",
        "\n",
        "df = pd.read_csv('https://raw.githubusercontent.com/rfordatascience/tidytuesday/master/data/2021/2021-04-27/departures.csv')\n",
        "\n",
        "print(f'Rows: {df.shape[0]}\\nColumns: {df.shape[1]}')"
      ],
      "execution_count": 1,
      "outputs": [
        {
          "output_type": "stream",
          "text": [
            "Rows: 9423\n",
            "Columns: 19\n"
          ],
          "name": "stdout"
        }
      ]
    },
    {
      "cell_type": "code",
      "metadata": {
        "colab": {
          "base_uri": "https://localhost:8080/",
          "height": 638
        },
        "id": "8yE32vdByEvl",
        "outputId": "ddb525f8-0984-4ba6-82b5-03246d28c6a5"
      },
      "source": [
        "df.describe(include='all').T"
      ],
      "execution_count": 2,
      "outputs": [
        {
          "output_type": "execute_result",
          "data": {
            "text/html": [
              "<div>\n",
              "<style scoped>\n",
              "    .dataframe tbody tr th:only-of-type {\n",
              "        vertical-align: middle;\n",
              "    }\n",
              "\n",
              "    .dataframe tbody tr th {\n",
              "        vertical-align: top;\n",
              "    }\n",
              "\n",
              "    .dataframe thead th {\n",
              "        text-align: right;\n",
              "    }\n",
              "</style>\n",
              "<table border=\"1\" class=\"dataframe\">\n",
              "  <thead>\n",
              "    <tr style=\"text-align: right;\">\n",
              "      <th></th>\n",
              "      <th>count</th>\n",
              "      <th>unique</th>\n",
              "      <th>top</th>\n",
              "      <th>freq</th>\n",
              "      <th>mean</th>\n",
              "      <th>std</th>\n",
              "      <th>min</th>\n",
              "      <th>25%</th>\n",
              "      <th>50%</th>\n",
              "      <th>75%</th>\n",
              "      <th>max</th>\n",
              "    </tr>\n",
              "  </thead>\n",
              "  <tbody>\n",
              "    <tr>\n",
              "      <th>dismissal_dataset_id</th>\n",
              "      <td>9423</td>\n",
              "      <td>NaN</td>\n",
              "      <td>NaN</td>\n",
              "      <td>NaN</td>\n",
              "      <td>5684.1</td>\n",
              "      <td>25005.5</td>\n",
              "      <td>1</td>\n",
              "      <td>2305.5</td>\n",
              "      <td>4593</td>\n",
              "      <td>6812.5</td>\n",
              "      <td>559044</td>\n",
              "    </tr>\n",
              "    <tr>\n",
              "      <th>coname</th>\n",
              "      <td>9423</td>\n",
              "      <td>3860</td>\n",
              "      <td>SEARS HOLDINGS CORP</td>\n",
              "      <td>11</td>\n",
              "      <td>NaN</td>\n",
              "      <td>NaN</td>\n",
              "      <td>NaN</td>\n",
              "      <td>NaN</td>\n",
              "      <td>NaN</td>\n",
              "      <td>NaN</td>\n",
              "      <td>NaN</td>\n",
              "    </tr>\n",
              "    <tr>\n",
              "      <th>gvkey</th>\n",
              "      <td>9423</td>\n",
              "      <td>NaN</td>\n",
              "      <td>NaN</td>\n",
              "      <td>NaN</td>\n",
              "      <td>40132.5</td>\n",
              "      <td>53921.3</td>\n",
              "      <td>1004</td>\n",
              "      <td>7337</td>\n",
              "      <td>14385</td>\n",
              "      <td>60900.5</td>\n",
              "      <td>328795</td>\n",
              "    </tr>\n",
              "    <tr>\n",
              "      <th>fyear</th>\n",
              "      <td>9423</td>\n",
              "      <td>NaN</td>\n",
              "      <td>NaN</td>\n",
              "      <td>NaN</td>\n",
              "      <td>2007.74</td>\n",
              "      <td>8.18815</td>\n",
              "      <td>1987</td>\n",
              "      <td>2000</td>\n",
              "      <td>2008</td>\n",
              "      <td>2016</td>\n",
              "      <td>2020</td>\n",
              "    </tr>\n",
              "    <tr>\n",
              "      <th>co_per_rol</th>\n",
              "      <td>9423</td>\n",
              "      <td>NaN</td>\n",
              "      <td>NaN</td>\n",
              "      <td>NaN</td>\n",
              "      <td>25580.2</td>\n",
              "      <td>18202.4</td>\n",
              "      <td>-1</td>\n",
              "      <td>8555.5</td>\n",
              "      <td>22980</td>\n",
              "      <td>39275.5</td>\n",
              "      <td>64602</td>\n",
              "    </tr>\n",
              "    <tr>\n",
              "      <th>exec_fullname</th>\n",
              "      <td>9423</td>\n",
              "      <td>8701</td>\n",
              "      <td>Mark Vincent Hurd</td>\n",
              "      <td>4</td>\n",
              "      <td>NaN</td>\n",
              "      <td>NaN</td>\n",
              "      <td>NaN</td>\n",
              "      <td>NaN</td>\n",
              "      <td>NaN</td>\n",
              "      <td>NaN</td>\n",
              "      <td>NaN</td>\n",
              "    </tr>\n",
              "    <tr>\n",
              "      <th>departure_code</th>\n",
              "      <td>7756</td>\n",
              "      <td>NaN</td>\n",
              "      <td>NaN</td>\n",
              "      <td>NaN</td>\n",
              "      <td>5.19572</td>\n",
              "      <td>1.52668</td>\n",
              "      <td>1</td>\n",
              "      <td>5</td>\n",
              "      <td>5</td>\n",
              "      <td>7</td>\n",
              "      <td>9</td>\n",
              "    </tr>\n",
              "    <tr>\n",
              "      <th>ceo_dismissal</th>\n",
              "      <td>7610</td>\n",
              "      <td>NaN</td>\n",
              "      <td>NaN</td>\n",
              "      <td>NaN</td>\n",
              "      <td>0.195664</td>\n",
              "      <td>0.396737</td>\n",
              "      <td>0</td>\n",
              "      <td>0</td>\n",
              "      <td>0</td>\n",
              "      <td>0</td>\n",
              "      <td>1</td>\n",
              "    </tr>\n",
              "    <tr>\n",
              "      <th>interim_coceo</th>\n",
              "      <td>318</td>\n",
              "      <td>6</td>\n",
              "      <td>Interim</td>\n",
              "      <td>218</td>\n",
              "      <td>NaN</td>\n",
              "      <td>NaN</td>\n",
              "      <td>NaN</td>\n",
              "      <td>NaN</td>\n",
              "      <td>NaN</td>\n",
              "      <td>NaN</td>\n",
              "      <td>NaN</td>\n",
              "    </tr>\n",
              "    <tr>\n",
              "      <th>tenure_no_ceodb</th>\n",
              "      <td>9423</td>\n",
              "      <td>NaN</td>\n",
              "      <td>NaN</td>\n",
              "      <td>NaN</td>\n",
              "      <td>1.02632</td>\n",
              "      <td>0.166587</td>\n",
              "      <td>0</td>\n",
              "      <td>1</td>\n",
              "      <td>1</td>\n",
              "      <td>1</td>\n",
              "      <td>3</td>\n",
              "    </tr>\n",
              "    <tr>\n",
              "      <th>max_tenure_ceodb</th>\n",
              "      <td>9423</td>\n",
              "      <td>NaN</td>\n",
              "      <td>NaN</td>\n",
              "      <td>NaN</td>\n",
              "      <td>1.05094</td>\n",
              "      <td>0.235275</td>\n",
              "      <td>1</td>\n",
              "      <td>1</td>\n",
              "      <td>1</td>\n",
              "      <td>1</td>\n",
              "      <td>4</td>\n",
              "    </tr>\n",
              "    <tr>\n",
              "      <th>fyear_gone</th>\n",
              "      <td>7621</td>\n",
              "      <td>NaN</td>\n",
              "      <td>NaN</td>\n",
              "      <td>NaN</td>\n",
              "      <td>2006.64</td>\n",
              "      <td>13.6282</td>\n",
              "      <td>1980</td>\n",
              "      <td>2000</td>\n",
              "      <td>2007</td>\n",
              "      <td>2013</td>\n",
              "      <td>2997</td>\n",
              "    </tr>\n",
              "    <tr>\n",
              "      <th>leftofc</th>\n",
              "      <td>7621</td>\n",
              "      <td>3627</td>\n",
              "      <td>2013-01-01T00:00:00Z</td>\n",
              "      <td>42</td>\n",
              "      <td>NaN</td>\n",
              "      <td>NaN</td>\n",
              "      <td>NaN</td>\n",
              "      <td>NaN</td>\n",
              "      <td>NaN</td>\n",
              "      <td>NaN</td>\n",
              "      <td>NaN</td>\n",
              "    </tr>\n",
              "    <tr>\n",
              "      <th>still_there</th>\n",
              "      <td>2112</td>\n",
              "      <td>77</td>\n",
              "      <td>Yes</td>\n",
              "      <td>992</td>\n",
              "      <td>NaN</td>\n",
              "      <td>NaN</td>\n",
              "      <td>NaN</td>\n",
              "      <td>NaN</td>\n",
              "      <td>NaN</td>\n",
              "      <td>NaN</td>\n",
              "      <td>NaN</td>\n",
              "    </tr>\n",
              "    <tr>\n",
              "      <th>notes</th>\n",
              "      <td>7779</td>\n",
              "      <td>7755</td>\n",
              "      <td>No Information found on web regarding the depa...</td>\n",
              "      <td>4</td>\n",
              "      <td>NaN</td>\n",
              "      <td>NaN</td>\n",
              "      <td>NaN</td>\n",
              "      <td>NaN</td>\n",
              "      <td>NaN</td>\n",
              "      <td>NaN</td>\n",
              "      <td>NaN</td>\n",
              "    </tr>\n",
              "    <tr>\n",
              "      <th>sources</th>\n",
              "      <td>7948</td>\n",
              "      <td>7915</td>\n",
              "      <td>https://photronicsinc.gcs-web.com/directors/co...</td>\n",
              "      <td>3</td>\n",
              "      <td>NaN</td>\n",
              "      <td>NaN</td>\n",
              "      <td>NaN</td>\n",
              "      <td>NaN</td>\n",
              "      <td>NaN</td>\n",
              "      <td>NaN</td>\n",
              "      <td>NaN</td>\n",
              "    </tr>\n",
              "    <tr>\n",
              "      <th>eight_ks</th>\n",
              "      <td>4924</td>\n",
              "      <td>4914</td>\n",
              "      <td>https://www.sec.gov/Archives/edgar/data/93389/...</td>\n",
              "      <td>2</td>\n",
              "      <td>NaN</td>\n",
              "      <td>NaN</td>\n",
              "      <td>NaN</td>\n",
              "      <td>NaN</td>\n",
              "      <td>NaN</td>\n",
              "      <td>NaN</td>\n",
              "      <td>NaN</td>\n",
              "    </tr>\n",
              "    <tr>\n",
              "      <th>cik</th>\n",
              "      <td>9178</td>\n",
              "      <td>NaN</td>\n",
              "      <td>NaN</td>\n",
              "      <td>NaN</td>\n",
              "      <td>741469</td>\n",
              "      <td>486551</td>\n",
              "      <td>1750</td>\n",
              "      <td>106413</td>\n",
              "      <td>857323</td>\n",
              "      <td>1.05038e+06</td>\n",
              "      <td>1.80806e+06</td>\n",
              "    </tr>\n",
              "    <tr>\n",
              "      <th>_merge</th>\n",
              "      <td>9423</td>\n",
              "      <td>1</td>\n",
              "      <td>matched (3)</td>\n",
              "      <td>9423</td>\n",
              "      <td>NaN</td>\n",
              "      <td>NaN</td>\n",
              "      <td>NaN</td>\n",
              "      <td>NaN</td>\n",
              "      <td>NaN</td>\n",
              "      <td>NaN</td>\n",
              "      <td>NaN</td>\n",
              "    </tr>\n",
              "  </tbody>\n",
              "</table>\n",
              "</div>"
            ],
            "text/plain": [
              "                     count unique  ...          75%          max\n",
              "dismissal_dataset_id  9423    NaN  ...       6812.5       559044\n",
              "coname                9423   3860  ...          NaN          NaN\n",
              "gvkey                 9423    NaN  ...      60900.5       328795\n",
              "fyear                 9423    NaN  ...         2016         2020\n",
              "co_per_rol            9423    NaN  ...      39275.5        64602\n",
              "exec_fullname         9423   8701  ...          NaN          NaN\n",
              "departure_code        7756    NaN  ...            7            9\n",
              "ceo_dismissal         7610    NaN  ...            0            1\n",
              "interim_coceo          318      6  ...          NaN          NaN\n",
              "tenure_no_ceodb       9423    NaN  ...            1            3\n",
              "max_tenure_ceodb      9423    NaN  ...            1            4\n",
              "fyear_gone            7621    NaN  ...         2013         2997\n",
              "leftofc               7621   3627  ...          NaN          NaN\n",
              "still_there           2112     77  ...          NaN          NaN\n",
              "notes                 7779   7755  ...          NaN          NaN\n",
              "sources               7948   7915  ...          NaN          NaN\n",
              "eight_ks              4924   4914  ...          NaN          NaN\n",
              "cik                   9178    NaN  ...  1.05038e+06  1.80806e+06\n",
              "_merge                9423      1  ...          NaN          NaN\n",
              "\n",
              "[19 rows x 11 columns]"
            ]
          },
          "metadata": {
            "tags": []
          },
          "execution_count": 2
        }
      ]
    },
    {
      "cell_type": "code",
      "metadata": {
        "colab": {
          "base_uri": "https://localhost:8080/"
        },
        "id": "udYkMMOQzSjU",
        "outputId": "b3a7f03d-d99f-4770-9129-cfb47bf40214"
      },
      "source": [
        "departureReference = {1:'Involuntary - CEO Death',\n",
        "                      2:'Involuntary - CEO Illness',\n",
        "                      3:'Involuntary - Poor Performance',\n",
        "                      4:'Involuntary - Legal Concerns',\n",
        "                      5:'Voluntary - Retired',\n",
        "                      6:'Voluntary - Took New Job',\n",
        "                      7:'Other',\n",
        "                      8:'Missing',\n",
        "                      9:'Error'\n",
        "}\n",
        "\n",
        "df['departure_code'] = np.where(df['departure_code'].isna(), 8, df['departure_code'])\n",
        "df['departure_desc'] = df['departure_code'].map(departureReference)\n",
        "\n",
        "df['departure_desc'].value_counts(dropna=False)"
      ],
      "execution_count": 3,
      "outputs": [
        {
          "output_type": "execute_result",
          "data": {
            "text/plain": [
              "Voluntary - Retired               3598\n",
              "Other                             2133\n",
              "Missing                           1720\n",
              "Involuntary - Poor Performance    1320\n",
              "Involuntary - Legal Concerns       195\n",
              "Voluntary - Took New Job           183\n",
              "Involuntary - CEO Illness           97\n",
              "Error                               93\n",
              "Involuntary - CEO Death             84\n",
              "Name: departure_desc, dtype: int64"
            ]
          },
          "metadata": {
            "tags": []
          },
          "execution_count": 3
        }
      ]
    },
    {
      "cell_type": "code",
      "metadata": {
        "colab": {
          "base_uri": "https://localhost:8080/",
          "height": 281
        },
        "id": "a82KTd5HyJ_d",
        "outputId": "763b2eda-355a-4d6d-8e70-7f41114e860f"
      },
      "source": [
        "df.fyear.hist()\n",
        "plt.title('Departures by Year')\n",
        "plt.show()"
      ],
      "execution_count": 4,
      "outputs": [
        {
          "output_type": "display_data",
          "data": {
            "image/png": "[encoded data removed]",
            "text/plain": [
              "<Figure size 432x288 with 1 Axes>"
            ]
          },
          "metadata": {
            "tags": [],
            "needs_background": "light"
          }
        }
      ]
    },
    {
      "cell_type": "markdown",
      "metadata": {
        "id": "CUQ75Fb4SWMd"
      },
      "source": [
        "What about the rise of involuntary departures?"
      ]
    },
    {
      "cell_type": "code",
      "metadata": {
        "id": "ahnsDgMiyxqf",
        "colab": {
          "base_uri": "https://localhost:8080/",
          "height": 295
        },
        "outputId": "fe00b553-cfe0-4c9d-d41b-82fb7b178a78"
      },
      "source": [
        "sns.heatmap(df.pivot_table(columns='fyear', index='departure_desc', aggfunc='count', values='dismissal_dataset_id', dropna=False, fill_value=0))\n",
        "plt.xlabel('Year')\n",
        "plt.ylabel('Departure Code')\n",
        "plt.show()"
      ],
      "execution_count": 5,
      "outputs": [
        {
          "output_type": "display_data",
          "data": {
            "image/png": "[encoded data removed]",
            "text/plain": [
              "<Figure size 432x288 with 2 Axes>"
            ]
          },
          "metadata": {
            "tags": [],
            "needs_background": "light"
          }
        }
      ]
    },
    {
      "cell_type": "markdown",
      "metadata": {
        "id": "wIPvHf-smzjr"
      },
      "source": [
        "Looks like NAs/missings were virtually non-existent and then exploded. Signals the recent data is not complete. Remove."
      ]
    },
    {
      "cell_type": "code",
      "metadata": {
        "colab": {
          "base_uri": "https://localhost:8080/",
          "height": 295
        },
        "id": "zIIrP9E3QrE1",
        "outputId": "9640ba04-6482-4b60-dc73-8f4606b7c763"
      },
      "source": [
        "involuntary = [1,2,3,4]\n",
        "excludedCd = [7,8,9]\n",
        "\n",
        "df['involuntary'] = df['departure_code'].isin(involuntary)\n",
        "df['excludedCodes'] = df['departure_code'].isin(excludedCd)\n",
        "\n",
        "sns.heatmap(df.query('~excludedCodes').pivot_table(columns='fyear', index='departure_desc', aggfunc='count', values='dismissal_dataset_id', dropna=False, fill_value=0))\n",
        "plt.xlabel('Year')\n",
        "plt.ylabel('Departure Code')\n",
        "plt.show()"
      ],
      "execution_count": 6,
      "outputs": [
        {
          "output_type": "display_data",
          "data": {
            "image/png": "[encoded data removed]",
            "text/plain": [
              "<Figure size 432x288 with 2 Axes>"
            ]
          },
          "metadata": {
            "tags": [],
            "needs_background": "light"
          }
        }
      ]
    },
    {
      "cell_type": "markdown",
      "metadata": {
        "id": "xSqrFPeFRGnS"
      },
      "source": [
        "Looks like the main departure reasons are consistently voluntary retirement (makes sense) and involuntary departure (i.e., \"you're fired!\") for poor performance."
      ]
    },
    {
      "cell_type": "code",
      "metadata": {
        "id": "oDxNLk5uynAa",
        "colab": {
          "base_uri": "https://localhost:8080/",
          "height": 295
        },
        "outputId": "94fea1cf-0f46-4d54-ce90-888e0226b8b7"
      },
      "source": [
        "involuntaryTrend = df.query('fyear>= 1993 and fyear <= 2018 and ~excludedCodes',engine='python').groupby('fyear')['involuntary'].mean()\n",
        "involuntaryTrend.plot()\n",
        "plt.title('Percent of Departures that were involuntary')\n",
        "plt.show()"
      ],
      "execution_count": 7,
      "outputs": [
        {
          "output_type": "display_data",
          "data": {
            "image/png": "[encoded data removed]",
            "text/plain": [
              "<Figure size 432x288 with 1 Axes>"
            ]
          },
          "metadata": {
            "tags": [],
            "needs_background": "light"
          }
        }
      ]
    },
    {
      "cell_type": "markdown",
      "metadata": {
        "id": "KnbV3Z83Q8tl"
      },
      "source": [
        "### Seems to be an increase in naughty CEOs. Can we model the trend?"
      ]
    },
    {
      "cell_type": "code",
      "metadata": {
        "id": "RVRbBp86PJjp",
        "colab": {
          "base_uri": "https://localhost:8080/"
        },
        "outputId": "fb531056-9536-4beb-a40c-2367109af753"
      },
      "source": [
        "import statsmodels.api as sm\n",
        "\n",
        "timeTrend = range(0, len(involuntaryTrend))\n",
        "timeTrend = pd.Series(timeTrend, index=involuntaryTrend.index)\n",
        "\n",
        "# statsmodels doesn't include the constant, so remember to explicitly add it.\n",
        "timeTrend = sm.add_constant(timeTrend)\n",
        "\n",
        "mod = sm.OLS(involuntaryTrend, timeTrend)\n",
        "\n",
        "results = mod.fit()"
      ],
      "execution_count": 8,
      "outputs": [
        {
          "output_type": "stream",
          "text": [
            "/usr/local/lib/python3.7/dist-packages/statsmodels/tools/_testing.py:19: FutureWarning: pandas.util.testing is deprecated. Use the functions in the public API at pandas.testing instead.\n",
            "  import pandas.util.testing as tm\n"
          ],
          "name": "stderr"
        }
      ]
    },
    {
      "cell_type": "code",
      "metadata": {
        "colab": {
          "base_uri": "https://localhost:8080/",
          "height": 265
        },
        "id": "AHQNExqbpHFL",
        "outputId": "32781413-55b4-4a3a-e1fa-df023245b417"
      },
      "source": [
        "involuntaryTrend.plot()\n",
        "pd.Series(results.predict(), index=involuntaryTrend.index).plot()\n",
        "plt.xlabel('')\n",
        "plt.ylabel('Percent')\n",
        "plt.show()"
      ],
      "execution_count": 9,
      "outputs": [
        {
          "output_type": "display_data",
          "data": {
            "image/png": "[encoded data removed]",
            "text/plain": [
              "<Figure size 432x288 with 1 Axes>"
            ]
          },
          "metadata": {
            "tags": [],
            "needs_background": "light"
          }
        }
      ]
    },
    {
      "cell_type": "markdown",
      "metadata": {
        "id": "POktBrOwrKKA"
      },
      "source": [
        "Hmm... looks like the data suggests there is an increasing trend in involuntary departures. More scrutiny now?"
      ]
    },
    {
      "cell_type": "markdown",
      "metadata": {
        "id": "Vod_OHTIwCQ_"
      },
      "source": [
        "### Now estimate what the annual change in the rate is from the data. We have the simple linear trend, but try a bootstrapped GLM to estimate."
      ]
    },
    {
      "cell_type": "code",
      "metadata": {
        "colab": {
          "base_uri": "https://localhost:8080/",
          "height": 444
        },
        "id": "3IjgHvpZwOTa",
        "outputId": "82823997-2ed8-49e7-e1b5-f70fa6c451ce"
      },
      "source": [
        "results.summary()"
      ],
      "execution_count": 10,
      "outputs": [
        {
          "output_type": "execute_result",
          "data": {
            "text/html": [
              "<table class=\"simpletable\">\n",
              "<caption>OLS Regression Results</caption>\n",
              "<tr>\n",
              "  <th>Dep. Variable:</th>       <td>involuntary</td>   <th>  R-squared:         </th> <td>   0.359</td>\n",
              "</tr>\n",
              "<tr>\n",
              "  <th>Model:</th>                   <td>OLS</td>       <th>  Adj. R-squared:    </th> <td>   0.333</td>\n",
              "</tr>\n",
              "<tr>\n",
              "  <th>Method:</th>             <td>Least Squares</td>  <th>  F-statistic:       </th> <td>   13.47</td>\n",
              "</tr>\n",
              "<tr>\n",
              "  <th>Date:</th>             <td>Sun, 02 May 2021</td> <th>  Prob (F-statistic):</th>  <td>0.00121</td>\n",
              "</tr>\n",
              "<tr>\n",
              "  <th>Time:</th>                 <td>19:44:54</td>     <th>  Log-Likelihood:    </th> <td>  46.435</td>\n",
              "</tr>\n",
              "<tr>\n",
              "  <th>No. Observations:</th>      <td>    26</td>      <th>  AIC:               </th> <td>  -88.87</td>\n",
              "</tr>\n",
              "<tr>\n",
              "  <th>Df Residuals:</th>          <td>    24</td>      <th>  BIC:               </th> <td>  -86.35</td>\n",
              "</tr>\n",
              "<tr>\n",
              "  <th>Df Model:</th>              <td>     1</td>      <th>                     </th>     <td> </td>   \n",
              "</tr>\n",
              "<tr>\n",
              "  <th>Covariance Type:</th>      <td>nonrobust</td>    <th>                     </th>     <td> </td>   \n",
              "</tr>\n",
              "</table>\n",
              "<table class=\"simpletable\">\n",
              "<tr>\n",
              "    <td></td>       <th>coef</th>     <th>std err</th>      <th>t</th>      <th>P>|t|</th>  <th>[0.025</th>    <th>0.975]</th>  \n",
              "</tr>\n",
              "<tr>\n",
              "  <th>const</th> <td>    0.2576</td> <td>    0.016</td> <td>   16.007</td> <td> 0.000</td> <td>    0.224</td> <td>    0.291</td>\n",
              "</tr>\n",
              "<tr>\n",
              "  <th>0</th>     <td>    0.0041</td> <td>    0.001</td> <td>    3.670</td> <td> 0.001</td> <td>    0.002</td> <td>    0.006</td>\n",
              "</tr>\n",
              "</table>\n",
              "<table class=\"simpletable\">\n",
              "<tr>\n",
              "  <th>Omnibus:</th>       <td> 1.563</td> <th>  Durbin-Watson:     </th> <td>   1.517</td>\n",
              "</tr>\n",
              "<tr>\n",
              "  <th>Prob(Omnibus):</th> <td> 0.458</td> <th>  Jarque-Bera (JB):  </th> <td>   1.177</td>\n",
              "</tr>\n",
              "<tr>\n",
              "  <th>Skew:</th>          <td> 0.510</td> <th>  Prob(JB):          </th> <td>   0.555</td>\n",
              "</tr>\n",
              "<tr>\n",
              "  <th>Kurtosis:</th>      <td> 2.784</td> <th>  Cond. No.          </th> <td>    28.4</td>\n",
              "</tr>\n",
              "</table><br/><br/>Warnings:<br/>[1] Standard Errors assume that the covariance matrix of the errors is correctly specified."
            ],
            "text/plain": [
              "<class 'statsmodels.iolib.summary.Summary'>\n",
              "\"\"\"\n",
              "                            OLS Regression Results                            \n",
              "==============================================================================\n",
              "Dep. Variable:            involuntary   R-squared:                       0.359\n",
              "Model:                            OLS   Adj. R-squared:                  0.333\n",
              "Method:                 Least Squares   F-statistic:                     13.47\n",
              "Date:                Sun, 02 May 2021   Prob (F-statistic):            0.00121\n",
              "Time:                        19:44:54   Log-Likelihood:                 46.435\n",
              "No. Observations:                  26   AIC:                            -88.87\n",
              "Df Residuals:                      24   BIC:                            -86.35\n",
              "Df Model:                           1                                         \n",
              "Covariance Type:            nonrobust                                         \n",
              "==============================================================================\n",
              "                 coef    std err          t      P>|t|      [0.025      0.975]\n",
              "------------------------------------------------------------------------------\n",
              "const          0.2576      0.016     16.007      0.000       0.224       0.291\n",
              "0              0.0041      0.001      3.670      0.001       0.002       0.006\n",
              "==============================================================================\n",
              "Omnibus:                        1.563   Durbin-Watson:                   1.517\n",
              "Prob(Omnibus):                  0.458   Jarque-Bera (JB):                1.177\n",
              "Skew:                           0.510   Prob(JB):                        0.555\n",
              "Kurtosis:                       2.784   Cond. No.                         28.4\n",
              "==============================================================================\n",
              "\n",
              "Warnings:\n",
              "[1] Standard Errors assume that the covariance matrix of the errors is correctly specified.\n",
              "\"\"\""
            ]
          },
          "metadata": {
            "tags": []
          },
          "execution_count": 10
        }
      ]
    },
    {
      "cell_type": "markdown",
      "metadata": {
        "id": "atDim4Yywhbq"
      },
      "source": [
        "OLS regression suggests about 40 basis points a year increase. It will be interesting to see what the bootstrapped difference using GLM might be..."
      ]
    },
    {
      "cell_type": "code",
      "metadata": {
        "id": "2taR6-Hmwb2n"
      },
      "source": [
        "### using statsmodel.api\n",
        "dataForBoot = df.copy()\n",
        "dataForBoot = dataForBoot.query('~excludedCodes and fyear >= 1993 and fyear <= 2018')\n",
        "dataForBoot = dataForBoot.assign(y = np.where(dataForBoot['involuntary'] == True, 1, 0), X = dataForBoot['fyear'])\n",
        "dataForBoot = dataForBoot[['y', 'X']]\n",
        "dataForBoot = dataForBoot.reset_index()"
      ],
      "execution_count": 38,
      "outputs": []
    },
    {
      "cell_type": "code",
      "metadata": {
        "colab": {
          "base_uri": "https://localhost:8080/",
          "height": 279
        },
        "id": "54idBz8qPDNQ",
        "outputId": "c00f56eb-5d5d-48cd-b917-4afcae24d4ef"
      },
      "source": [
        "dataForBoot.groupby('X')['y'].mean().plot()\n",
        "plt.show()"
      ],
      "execution_count": 41,
      "outputs": [
        {
          "output_type": "display_data",
          "data": {
            "image/png": "[encoded data removed]",
            "text/plain": [
              "<Figure size 432x288 with 1 Axes>"
            ]
          },
          "metadata": {
            "tags": [],
            "needs_background": "light"
          }
        }
      ]
    },
    {
      "cell_type": "code",
      "metadata": {
        "id": "xHS5t2fVQQCc",
        "colab": {
          "base_uri": "https://localhost:8080/",
          "height": 295
        },
        "outputId": "dcf34241-97c0-4036-e9f6-6c6182fd11f2"
      },
      "source": [
        "def logReg(df):\n",
        "  glm_binom = sm.GLM(df.y, sm.add_constant(df.X, prepend=False), family=sm.families.Binomial())\n",
        "  res = glm_binom.fit()\n",
        "  return np.exp(res.params[0]) - 1\n",
        "\n",
        "def boot(df, splits=1000, size_per_split=0.50):\n",
        "  import random\n",
        "  '''\n",
        "  splits = number of samples to be run through the model\n",
        "  size_per_split = percent of the dataset to be sampled for each split\n",
        "  '''\n",
        "  coef = list()\n",
        "\n",
        "  for _ in range(splits):\n",
        "    indexSample = random.sample(df.index.to_list(), k=int(df.shape[0]*size_per_split))\n",
        "    indexSample = list(set(indexSample))\n",
        "    coef.append(logReg(df.iloc[indexSample, :]))\n",
        "  \n",
        "  return coef\n",
        "\n",
        "estimates = boot(dataForBoot)\n",
        "\n",
        "plt.hist(estimates)\n",
        "plt.xlabel('Estimated Percent Change')\n",
        "plt.ylabel('Number of Bootstraps')\n",
        "plt.title('Estimated Annual Change in Involuntary CEO Departures')\n",
        "plt.show()"
      ],
      "execution_count": 86,
      "outputs": [
        {
          "output_type": "display_data",
          "data": {
            "image/png": "[encoded data removed]",
            "text/plain": [
              "<Figure size 432x288 with 1 Axes>"
            ]
          },
          "metadata": {
            "tags": [],
            "needs_background": "light"
          }
        }
      ]
    },
    {
      "cell_type": "markdown",
      "metadata": {
        "id": "nxQyWhbVtD5G"
      },
      "source": [
        "This suggests that the rate of involuntary departures increases between 1.0 - 2.5% per year. That's a bit higher than the simple trend model would suggest."
      ]
    },
    {
      "cell_type": "code",
      "metadata": {
        "id": "KRG1dOn5ssqs"
      },
      "source": [
        ""
      ],
      "execution_count": null,
      "outputs": []
    }
  ]
}